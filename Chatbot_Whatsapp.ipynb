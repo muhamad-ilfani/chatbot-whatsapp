{
 "cells": [
  {
   "cell_type": "code",
   "execution_count": 1,
   "metadata": {},
   "outputs": [],
   "source": [
    "from selenium import webdriver\n",
    "from selenium.webdriver.common.keys import Keys\n",
    "import time\n",
    "import datetime\n",
    "import webbrowser as web\n",
    "import pyautogui as pg"
   ]
  },
  {
   "cell_type": "code",
   "execution_count": 5,
   "metadata": {},
   "outputs": [],
   "source": [
    "now = datetime.datetime.now()\n",
    "\n",
    "admin_name = \"[name]\"\n",
    "admin_password = \"[pass]\"\n",
    "\n",
    "#global variable\n",
    "Name_all =[]\n",
    "Status_all=[]\n",
    "i=0\n",
    "\n",
    "Name_update = [\"[REMINDER]PLEASE UPDATE KEPO !!\",\"-------------------------\"]\n",
    "t=0\n",
    "\n",
    "PATH = \"C:\\Program Files (x86)\\chromedriver.exe\"\n",
    "options = webdriver.ChromeOptions()\n",
    "options.add_argument(\"headless\")\n",
    "driver = webdriver.Chrome(PATH, options=options)\n",
    "driver.get(\"https://ieiappslogin.epson.biz/auth/realms/epson/protocol/openid-connect/auth?client_id=kepo&redirect_uri=https%3A%2F%2Fieiapps.epson.biz%2Fkepo%2Fsignin-oidc&response_type=code&scope=openid%20email%20profile%20roles&code_challenge=xn5hnaCdHHtpqu8UQ99Wrn84cTHABKaHNCDE5gBuwOk&code_challenge_method=S256&response_mode=form_post&nonce=637694350277878353.ZjcwOGY2ZDAtNzM0OS00MjRmLTk5ZGEtZDVjNGYwNzUzZDg0ZTg3ZjEyNGQtMjcyMC00NDg4LTk4YTEtZTFmODllOGNhYjJj&state=CfDJ8Cf9eV8t231AkM0vki_jrVk93vd6IasZ7gl5aQ6KoYL_FNaH84fDyjj8UuaE3VHj5Ecw5tNYWEvE1B7t6i7a-Uuyrxln5X6px_GRf375rtkHPMx8H3uWhpiZNhJuXT-fEIONOlaPlUd9K3WpBpvmpHRdCywGmzQn2MKmKQ85cfjWnbbiWYExjkIC75maXBLWEdK29UXufNjAMcga3H-awMfD2kTrVG-xOafPmRjS3Yx4p75Tiy7HEGP5EID7S0ZOK3M1k5m5U1fCvt1k1u0EraynX4dNeob1IjaOXJ4CYCy-pOTX1LcJXNa4gLfMG-YoxpuLPYUbXRKfNNJHdCI_G6pdVKvG9s_qu2w8kqxZopKsiGvCmEpspBAS2H87K4xL_-Ca0QSxdNx2Oq2INIJSko4&x-client-SKU=ID_NETSTANDARD2_0&x-client-ver=5.5.0.0\")\n",
    "\n",
    "user_in = driver.find_element_by_name(\"username\")\n",
    "user_in.send_keys(admin_name)\n",
    "\n",
    "user_psw = driver.find_element_by_name(\"password\")\n",
    "user_psw.send_keys(admin_password)\n",
    "user_psw.send_keys(Keys.RETURN)\n",
    "time.sleep(2)\n",
    "\n",
    "driver.get(\"https://ieiapps.epson.biz/kepo/Progress/Detail/?company=Z01891&department=FIRMWARE%20DESIGN%20DEPT&date=\"+str(now.year)+\"-\"+str(now.month)+\"-\"+str(now.day)+\"T04:00:00\")\n",
    "\n",
    "while i<65:\n",
    "    if i!=0:\n",
    "        Next = driver.find_element_by_link_text(\"Next\")\n",
    "        Next.send_keys(Keys.RETURN)\n",
    "        time.sleep(2)\n",
    "    Name = driver.find_elements_by_xpath('//table[@id=\"progress\"]/tbody/tr/td[2]')\n",
    "    Status = driver.find_elements_by_xpath('//table[@id=\"progress\"]/tbody/tr/td[4]')\n",
    "\n",
    "    for n in Name:\n",
    "        Name_all.append(n.text)\n",
    "    for s in Status:\n",
    "        Status_all.append(int(s.text))\n",
    "    count = len(Name)\n",
    "    i=i+count\n",
    "\n",
    "for st in Status_all:\n",
    "    if 4<= now.hour <16:\n",
    "        if(st<1):\n",
    "            Name_update.append(Name_all[t]+\" [\" + str(st) + \"x]\")\n",
    "    else:\n",
    "        if(st<2):\n",
    "            Name_update.append(Name_all[t]+\" [\" + str(st) + \"x]\")\n",
    "    t=t+1\n",
    "\n",
    "#Text_msg = \"PLEASE UPDATE KEPO \\t\"\n",
    "#for name in Name_update:\n",
    "#    Text_msg = Text_msg + name + \"\\t\"\n",
    "\n",
    "#print(Text_msg)\n",
    "time.sleep(2)\n",
    "\n",
    "driver.quit()\n",
    "\n",
    "web.open('https://web.whatsapp.com/accept?code=' + \"BD8XlBCsCHBLxhtJ7yn7cF\")\n",
    "time.sleep(2)\n",
    "width, height = pg.size()\n",
    "time.sleep(20)\n",
    "pg.click(width / 2, height - height / 10)\n",
    "pg.press('enter')\n",
    "for c in Name_update:\n",
    "    pg.hotkey('ctrl','enter')\n",
    "    pg.write(c)\n",
    "pg.press('enter')"
   ]
  },
  {
   "cell_type": "code",
   "execution_count": 34,
   "metadata": {},
   "outputs": [],
   "source": []
  },
  {
   "cell_type": "code",
   "execution_count": 33,
   "metadata": {
    "scrolled": false
   },
   "outputs": [],
   "source": []
  },
  {
   "cell_type": "code",
   "execution_count": 28,
   "metadata": {},
   "outputs": [
    {
     "data": {
      "text/plain": [
       "'Mantap'"
      ]
     },
     "execution_count": 28,
     "metadata": {},
     "output_type": "execute_result"
    }
   ],
   "source": []
  },
  {
   "cell_type": "code",
   "execution_count": null,
   "metadata": {},
   "outputs": [],
   "source": []
  },
  {
   "cell_type": "code",
   "execution_count": null,
   "metadata": {},
   "outputs": [],
   "source": []
  }
 ],
 "metadata": {
  "kernelspec": {
   "display_name": "Python 3",
   "language": "python",
   "name": "python3"
  },
  "language_info": {
   "codemirror_mode": {
    "name": "ipython",
    "version": 3
   },
   "file_extension": ".py",
   "mimetype": "text/x-python",
   "name": "python",
   "nbconvert_exporter": "python",
   "pygments_lexer": "ipython3",
   "version": "3.7.3"
  }
 },
 "nbformat": 4,
 "nbformat_minor": 2
}
